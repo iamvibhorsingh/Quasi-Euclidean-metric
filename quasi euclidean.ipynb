{
 "cells": [
  {
   "cell_type": "code",
   "execution_count": 49,
   "metadata": {
    "collapsed": true
   },
   "outputs": [],
   "source": [
    "import sys\n",
    "import numpy as np\n",
    "\n",
    "from scipy.misc import imread\n",
    "from scipy.linalg import norm\n",
    "from scipy import sum, average\n",
    "from math import *\n",
    "\n",
    "from skimage.measure import compare_ssim as ssim\n"
   ]
  },
  {
   "cell_type": "code",
   "execution_count": 432,
   "metadata": {},
   "outputs": [],
   "source": [
    "def main():\n",
    "    file1, file2 = sys.argv[1:1+2]\n",
    "    # read images as 2D arrays (convert to grayscale for simplicity)\n",
    "    img1 = to_grayscale(imread(\"D:/Wallpapers/donald1.jpg\").astype(float))\n",
    "    img2 = to_grayscale(imread(\"D:/Wallpapers/donald2.jpg\").astype(float))\n",
    "    ssim_none = ssim(img1, img2)\n",
    "    # compare\n",
    "    summ = compare_images(img1, img2)\n",
    "    similarity = 1 - (summ/367200)\n",
    "    print (\"Quasi Euclidean norm: \",similarity)\n",
    "    print (\"Quasi Euclidean norm: \",ssim(img1, img2))\n",
    "    #print (\"Zero/' norm:\", n_m, \"/ per pixel:\", n_m*1.0/img1.size)\n",
    "\n"
   ]
  },
  {
   "cell_type": "code",
   "execution_count": 433,
   "metadata": {
    "collapsed": true
   },
   "outputs": [],
   "source": [
    "def to_grayscale(arr):\n",
    "    \"If arr is a color image (3D array), convert it to grayscale (2D array).\"\n",
    "    if len(arr.shape) == 3:\n",
    "        return average(arr, -1)  # average over the last axis (color channels)\n",
    "    else:\n",
    "        return arr"
   ]
  },
  {
   "cell_type": "code",
   "execution_count": 434,
   "metadata": {
    "collapsed": true
   },
   "outputs": [],
   "source": [
    "def to_grayscale(arr):\n",
    "    \"If arr is a color image (3D array), convert it to grayscale (2D array).\"\n",
    "    if len(arr.shape) == 3:\n",
    "        return average(arr, -1)  # average over the last axis (color channels)\n",
    "    else:\n",
    "        return arr"
   ]
  },
  {
   "cell_type": "code",
   "execution_count": 435,
   "metadata": {},
   "outputs": [],
   "source": [
    "#img1 = to_grayscale(imread(\"D:/Wallpapers/apple1.jpg\").astype(float))\n",
    "#img2 = to_grayscale(imread(\"D:/Wallpapers/apple2.jpg\").astype(float))\n"
   ]
  },
  {
   "cell_type": "code",
   "execution_count": 436,
   "metadata": {},
   "outputs": [],
   "source": [
    "def summ(l):\n",
    "    summ = 0\n",
    "    for x in len(l):\n",
    "        sum += qe_norm[x]\n",
    "    return sum"
   ]
  },
  {
   "cell_type": "code",
   "execution_count": 437,
   "metadata": {},
   "outputs": [
    {
     "data": {
      "text/plain": [
       "0.49999999999999994"
      ]
     },
     "execution_count": 437,
     "metadata": {},
     "output_type": "execute_result"
    }
   ],
   "source": [
    "sin(radians(30))"
   ]
  },
  {
   "cell_type": "code",
   "execution_count": 438,
   "metadata": {},
   "outputs": [],
   "source": [
    "def compare_images(img1, img2):\n",
    "    xmax = img1.shape[0]\n",
    "    ymax = img1.shape[1] #img1 and img2 of same shape and size\n",
    "    scale = (90/255)\n",
    "    theta1 = scale*img1\n",
    "    theta2 = scale*img2\n",
    "    img1_x = []\n",
    "    img1_y = []\n",
    "    img2_x = []\n",
    "    img2_y = []\n",
    "    summation = 0.0\n",
    "    qe_norm = []\n",
    "    for i in range(xmax):\n",
    "        for j in range(ymax):\n",
    "            img1_x.append(img1[i][j]*cos(radians(theta1[i][j])))\n",
    "            img1_y.append(img1[i][j]*sin(radians(theta1[i][j])))\n",
    "            img2_x.append(img2[i][j]*cos(radians(theta2[i][j])))\n",
    "            img2_y.append(img2[i][j]*sin(radians(theta2[i][j])))\n",
    "    #calculate the difference\n",
    "    diff = img1 - img2  # elementwise for scipy arrays\n",
    "    for i in range(xmax):\n",
    "            if((fabs(img1_x[i] - img2_x[i]) >= fabs(img1_y[i] - img2_y[i]))):\n",
    "                qe_norm.append([fabs(img1_x[i] - img2_x[i]) + ((sqrt(2) - 1)*fabs(img1_y[i] - img2_y[i]))])  #Quasi Euclidean formaula \n",
    "                \n",
    "            else:\n",
    "                qe_norm.append([fabs(img1_y[i] - img2_y[i]) + ((sqrt(2) - 1)*fabs(img1_x[i] - img2_x[i]))])    \n",
    "                \n",
    "        #z_norm = norm(diff.ravel(), 0)  # Zero norm\n",
    "    summation = sum(qe_norm)\n",
    "    return (summation)\n",
    "\n"
   ]
  },
  {
   "cell_type": "code",
   "execution_count": 439,
   "metadata": {},
   "outputs": [],
   "source": [
    "def to_grayscale(arr):\n",
    "    \"If arr is a color image (3D array), convert it to grayscale (2D array).\"\n",
    "    if len(arr.shape) == 3:\n",
    "        return average(arr, -1)  # average over the last axis (color channels)\n",
    "    else:\n",
    "        return arr\n",
    "def normalize(arr):\n",
    "    rng = arr.max()-arr.min()\n",
    "    amin = arr.min()\n",
    "    return (arr-amin)*255/rng"
   ]
  },
  {
   "cell_type": "code",
   "execution_count": 440,
   "metadata": {
    "scrolled": true
   },
   "outputs": [
    {
     "name": "stdout",
     "output_type": "stream",
     "text": [
      "Quasi Euclidean norm:  0.93173537733\n",
      "Quasi Euclidean norm:  0.00906767322523\n"
     ]
    }
   ],
   "source": [
    "if __name__ == \"__main__\":\n",
    "    main()"
   ]
  },
  {
   "cell_type": "code",
   "execution_count": null,
   "metadata": {
    "collapsed": true
   },
   "outputs": [],
   "source": []
  }
 ],
 "metadata": {
  "kernelspec": {
   "display_name": "Python 3",
   "language": "python",
   "name": "python3"
  },
  "language_info": {
   "codemirror_mode": {
    "name": "ipython",
    "version": 3
   },
   "file_extension": ".py",
   "mimetype": "text/x-python",
   "name": "python",
   "nbconvert_exporter": "python",
   "pygments_lexer": "ipython3",
   "version": "3.5.2"
  }
 },
 "nbformat": 4,
 "nbformat_minor": 2
}
